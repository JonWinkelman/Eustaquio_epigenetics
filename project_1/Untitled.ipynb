{
 "cells": [
  {
   "cell_type": "code",
   "execution_count": 15,
   "metadata": {
    "scrolled": true
   },
   "outputs": [],
   "source": [
    "from jw_utils import parse_gff as pgf\n",
    "from jw_utils import genome_utils as gu\n",
    "from transcript_calling import tc_functions as tf\n",
    "a = pgf.make_seq_object_dict('../references/FERM_BP3421.gff', feature_type='gene')\n",
    "fasta_concat_genomepath = '../references/concat_references.fa'\n",
    "b = gu.GenomeUtils(fasta_concat_genomepath, '../references/FERM_BP3421.gff')"
   ]
  },
  {
   "cell_type": "code",
   "execution_count": 25,
   "metadata": {
    "scrolled": true
   },
   "outputs": [],
   "source": [
    "seq = b.get_feature_dna_seq('gene-tmp_006772',feature_type='gene', contig='BF000000.4')"
   ]
  },
  {
   "cell_type": "code",
   "execution_count": 24,
   "metadata": {},
   "outputs": [
    {
     "data": {
      "text/plain": [
       "'BF000000.4'"
      ]
     },
     "execution_count": 24,
     "metadata": {},
     "output_type": "execute_result"
    }
   ],
   "source": [
    "a['gene-tmp_006772'].chromosome"
   ]
  },
  {
   "cell_type": "code",
   "execution_count": 26,
   "metadata": {},
   "outputs": [
    {
     "data": {
      "text/plain": [
       "'atgtacacaacgcaatactgtggaaaaaggccagagtcttgggttcgcggctcggcatcgctcgacacgggaaccggcgacctgaccatgcatgttcagctagagactgactcggtgaaggctggtccgtcagggcatatggtggtgcttttcaaggacgcgaagggacaggttctggcaaccgcgagcagtcctcagtttgcacgtggtggaaagccacacggacatgcggcaatcgaagacgatttcggtcacgctagcatcccgcctcaggtggcagcgcaggcggttagtctcgaggccagtgtcgcatgtgggcctgccatgaatcggtggctgaacatcgacagtggcaaaattacgcaagcgatcgatgtcgccgtgaaggtcgtgacggcggtcggcacggcagcgcagtag'"
      ]
     },
     "execution_count": 26,
     "metadata": {},
     "output_type": "execute_result"
    }
   ],
   "source": [
    "seq\n"
   ]
  },
  {
   "cell_type": "code",
   "execution_count": null,
   "metadata": {},
   "outputs": [],
   "source": []
  }
 ],
 "metadata": {
  "kernelspec": {
   "display_name": "Python 3 (ipykernel)",
   "language": "python",
   "name": "python3"
  },
  "language_info": {
   "codemirror_mode": {
    "name": "ipython",
    "version": 3
   },
   "file_extension": ".py",
   "mimetype": "text/x-python",
   "name": "python",
   "nbconvert_exporter": "python",
   "pygments_lexer": "ipython3",
   "version": "3.8.15"
  }
 },
 "nbformat": 4,
 "nbformat_minor": 4
}
