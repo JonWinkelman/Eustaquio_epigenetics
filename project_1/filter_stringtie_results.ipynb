{
 "cells": [
  {
   "cell_type": "markdown",
   "metadata": {},
   "source": [
    "# Are there sequences near TSS that are associated with up or down regulation by ...  \n",
    "    Call transcripts from merged RNAseq datasets, find TSS region,\n",
    "    Merge RNAseq data to obtain more sequencing depth \n",
    "    Merge .bam files from BAO and BAN experimental set to one bam file\n",
    "    split merged bam file into + strand and - strand files (+ flag 83,163) (-flag 99,147)\n",
    "    index each file\n",
    "    Run stringtie on this indexed + and - bam file to estimate transcripts\n",
    "\n",
    "\n",
    "    Filtering out stringtie transcripts that are more reliable and editing them\n",
    "    filter\n",
    "    Select stringtie transcripts that start between two genes on one of the\n",
    "    DNA strands\n",
    "    Filter out transcripts that\n",
    "    Have low read Density\n",
    "    have no sudden increase in reads over a window of nts\n",
    "    Edit \n",
    "    If stringtie transcript ends in middle of gene, extend transcript to end of that gene\n",
    "    Create GFF from Filtered/edited stringtie transcripts and visualize with genome browser\n",
    "\n",
    "    match known transcripts  with their known TSSs to determine if our predictions \n",
    "    are predicting those correctly\n",
    "\n",
    "    generate file that has:\n",
    "    all predicted TSS sequences from -100 to +50 (wrt TSS)\n",
    "    genes that are included in TU for each TSS\n",
    "    information about whether those genes are upregulated, downregulated, not regulated \n",
    "    TSS1\t….NNNNNN….\trpoD\tnot regulated\n",
    "    TSS1\t…NNNNNN….\tlecA\tnot regulated\n",
    "    TSS2\t…NNNNNN…\t\tdnaA\tupregulated\n",
    "    \n",
    "    determine if there are motifs present in upregulated, downregulated or not regulated \n",
    "    seq using MEME\n"
   ]
  },
  {
   "cell_type": "code",
   "execution_count": 1,
   "metadata": {},
   "outputs": [
    {
     "name": "stdout",
     "output_type": "stream",
     "text": [
      "hello\n"
     ]
    }
   ],
   "source": [
    "import pandas as pd\n",
    "from plotly import offline as pyo\n",
    "from plotly import graph_objects as go\n",
    "import numpy as np\n",
    "import os\n",
    "from scipy import ndimage as ndi\n",
    "from jw_utils import parse_gff as pgf\n",
    "from jw_utils import parse_fasta as pf\n",
    "from jw_utils import parse_gbk as pgb\n",
    "from jw_utils import file_utils as fu\n",
    "from Bio import SeqIO\n",
    "import bisect\n",
    "import pysam\n",
    "from transcript_calling import tc_functions as tf\n",
    "from jw_utils import genome_utils as gu"
   ]
  },
  {
   "cell_type": "code",
   "execution_count": 2,
   "metadata": {},
   "outputs": [],
   "source": [
    "path_to_gff = '../references/FERM_BP3421.gff'\n",
    "path_to_strGTF_neg = './merge_all_negStrand.gtf'\n",
    "path_to_annot_file = '../data/references/Reference_FERM_BP3421.gbk'\n",
    "path_to_fa_genomes = '../data/references/concat_references.fa'"
   ]
  },
  {
   "cell_type": "markdown",
   "metadata": {},
   "source": [
    "### Split merged bam file into plus and minus strand templates \n",
    "    stringtie seems to perform better for me when I give it only one strand\n",
    "    - rf sequencing  \n",
    "    - plus strand flags: 83, 163\n",
    "    - minus strand flags: 99, 147\n",
    "    samtools view -f 83 merge_all.bam -o flag83.bam"
   ]
  },
  {
   "cell_type": "code",
   "execution_count": 6,
   "metadata": {
    "collapsed": true
   },
   "outputs": [
    {
     "name": "stdout",
     "output_type": "stream",
     "text": [
      "/bin/bash: samtools: command not found\n",
      "/bin/bash: samtools: command not found\n",
      "/bin/bash: samtools: command not found\n",
      "rm: ./merged_bam_files/flag83.bam: No such file or directory\n",
      "rm: ./merged_bam_files/flag163.bam: No such file or directory\n",
      "/bin/bash: samtools: command not found\n",
      "/bin/bash: samtools: command not found\n",
      "/bin/bash: samtools: command not found\n",
      "/bin/bash: samtools: command not found\n",
      "rm: ./merged_bam_files/flag99.bam: No such file or directory\n",
      "rm: ./merged_bam_files/flag147.bam: No such file or directory\n"
     ]
    }
   ],
   "source": [
    "#positive strand genes\n",
    "!samtools view -f 83 ./merged_bam_files/merge_all.bam -o ./merged_bam_files/flag83.bam\n",
    "#!samtools view -f 163 merge_all.bam -o flag163.bam\n",
    "!samtools merge ./merged_bam_files/flag83.bam ./merged_bam_files/flag163.bam -o ./merged_bam_files/merge_all_posStrand.bam\n",
    "!samtools index ./merged_bam_files/merge_all_posStrand.bam\n",
    "!rm ./merged_bam_files/flag83.bam\n",
    "!rm ./merged_bam_files/flag163.bam\n",
    "\n",
    "#neg strand genes\n",
    "!samtools view -f 99 ./merged_bam_files/merge_all.bam -o ./merged_bam_files/flag99.bam\n",
    "!samtools view -f 147 ./merged_bam_files/merge_all.bam -o ./merged_bam_files/flag147.bam\n",
    "!samtools merge ./merged_bam_files/flag99.bam ./merged_bam_files/flag147.bam -o ./merged_bam_files/merge_all_negStrand.bam\n",
    "!samtools index ./merged_bam_files/merge_all_negStrand.bam\n",
    "!rm ./merged_bam_files/flag99.bam\n",
    "!rm ./merged_bam_files/flag147.bam"
   ]
  },
  {
   "cell_type": "markdown",
   "metadata": {},
   "source": [
    "### Call initial transcripts using stringtie"
   ]
  },
  {
   "cell_type": "code",
   "execution_count": 26,
   "metadata": {},
   "outputs": [],
   "source": [
    "!stringtie -g 0 -j 10 ./merged_bam_files/merge_all_posStrand.bam --rf -o merge_all_posStrand.gtf\n",
    "!stringtie -g 0 -j 10 ./merged_bam_files/merge_all_negStrand.bam --rf -o merge_all_negStrand.gtf\n",
    "!stringtie -g 0 -j 10 ./merged_bam_files/merge_all.bam --rf -o merge_all.gtf"
   ]
  },
  {
   "cell_type": "markdown",
   "metadata": {},
   "source": [
    "##### Merge pos and neg strand annotation files produced by stringtie back into one gff file"
   ]
  },
  {
   "cell_type": "code",
   "execution_count": 3,
   "metadata": {},
   "outputs": [],
   "source": [
    "merged_nested_obj_dict = tf.merge_pos_neg_sttie_objs('merge_all_posStrand.gtf','merge_all_negStrand.gtf',path_to_gff)\n",
    "tf.write_gff_from_seqobj(merged_nested_obj_dict,'merged_all.gff')"
   ]
  },
  {
   "cell_type": "markdown",
   "metadata": {},
   "source": [
    "### Make wig files with pilups for each strand for each chromosome"
   ]
  },
  {
   "cell_type": "code",
   "execution_count": 4,
   "metadata": {
    "collapsed": true
   },
   "outputs": [
    {
     "name": "stderr",
     "output_type": "stream",
     "text": [
      "[E::hts_open_format] Failed to open file \"./merged_bam_files/merge_all_posStrand.bam\" : No such file or directory\n"
     ]
    },
    {
     "ename": "FileNotFoundError",
     "evalue": "[Errno 2] could not open alignment file `./merged_bam_files/merge_all_posStrand.bam`: No such file or directory",
     "output_type": "error",
     "traceback": [
      "\u001b[0;31m---------------------------------------------------------------------------\u001b[0m",
      "\u001b[0;31mFileNotFoundError\u001b[0m                         Traceback (most recent call last)",
      "\u001b[0;32m/var/folders/hb/rvrzm3nx3sxcpzvvy7xxwtsw0000gn/T/ipykernel_92983/3614808096.py\u001b[0m in \u001b[0;36m<module>\u001b[0;34m\u001b[0m\n\u001b[1;32m      1\u001b[0m \u001b[0mcontig_names\u001b[0m \u001b[0;34m=\u001b[0m \u001b[0mpgf\u001b[0m\u001b[0;34m.\u001b[0m\u001b[0mget_contig_names\u001b[0m\u001b[0;34m(\u001b[0m\u001b[0mpath_to_gff\u001b[0m\u001b[0;34m)\u001b[0m\u001b[0;34m\u001b[0m\u001b[0;34m\u001b[0m\u001b[0m\n\u001b[0;32m----> 2\u001b[0;31m \u001b[0mtf\u001b[0m\u001b[0;34m.\u001b[0m\u001b[0mmake_wig_pilups\u001b[0m\u001b[0;34m(\u001b[0m\u001b[0;34m'./merged_bam_files/merge_all_posStrand.bam'\u001b[0m\u001b[0;34m,\u001b[0m \u001b[0mcontig_names\u001b[0m\u001b[0;34m)\u001b[0m\u001b[0;34m\u001b[0m\u001b[0;34m\u001b[0m\u001b[0m\n\u001b[0m\u001b[1;32m      3\u001b[0m \u001b[0mtf\u001b[0m\u001b[0;34m.\u001b[0m\u001b[0mmake_wig_pilups\u001b[0m\u001b[0;34m(\u001b[0m\u001b[0;34m'./merged_bam_files/merge_all_negStrand.bam'\u001b[0m\u001b[0;34m,\u001b[0m \u001b[0mcontig_names\u001b[0m\u001b[0;34m)\u001b[0m\u001b[0;34m\u001b[0m\u001b[0;34m\u001b[0m\u001b[0m\n",
      "\u001b[0;32m~/Trestle_projects/Eustaquio_lab/Eustaquio_epigenetics/project_1/transcript_calling/tc_functions.py\u001b[0m in \u001b[0;36mmake_wig_pilups\u001b[0;34m(bam_filepath, contig_names)\u001b[0m\n\u001b[1;32m    167\u001b[0m \u001b[0;34m\u001b[0m\u001b[0m\n\u001b[1;32m    168\u001b[0m \u001b[0;32mdef\u001b[0m \u001b[0mmake_wig_pilups\u001b[0m\u001b[0;34m(\u001b[0m\u001b[0mbam_filepath\u001b[0m\u001b[0;34m,\u001b[0m \u001b[0mcontig_names\u001b[0m\u001b[0;34m)\u001b[0m\u001b[0;34m:\u001b[0m\u001b[0;34m\u001b[0m\u001b[0;34m\u001b[0m\u001b[0m\n\u001b[0;32m--> 169\u001b[0;31m     \u001b[0msam_align_obj\u001b[0m \u001b[0;34m=\u001b[0m \u001b[0mpysam\u001b[0m\u001b[0;34m.\u001b[0m\u001b[0mAlignmentFile\u001b[0m\u001b[0;34m(\u001b[0m\u001b[0mbam_filepath\u001b[0m\u001b[0;34m,\u001b[0m \u001b[0;34m'rb'\u001b[0m\u001b[0;34m)\u001b[0m\u001b[0;34m\u001b[0m\u001b[0;34m\u001b[0m\u001b[0m\n\u001b[0m\u001b[1;32m    170\u001b[0m     \u001b[0mfilename\u001b[0m \u001b[0;34m=\u001b[0m \u001b[0mbam_filepath\u001b[0m\u001b[0;34m.\u001b[0m\u001b[0msplit\u001b[0m\u001b[0;34m(\u001b[0m\u001b[0;34m'/'\u001b[0m\u001b[0;34m)\u001b[0m\u001b[0;34m[\u001b[0m\u001b[0;34m-\u001b[0m\u001b[0;36m1\u001b[0m\u001b[0;34m]\u001b[0m\u001b[0;34m.\u001b[0m\u001b[0mreplace\u001b[0m\u001b[0;34m(\u001b[0m\u001b[0;34m'.bam'\u001b[0m\u001b[0;34m,\u001b[0m \u001b[0;34m''\u001b[0m\u001b[0;34m)\u001b[0m\u001b[0;34m\u001b[0m\u001b[0;34m\u001b[0m\u001b[0m\n\u001b[1;32m    171\u001b[0m     \u001b[0;32mfor\u001b[0m \u001b[0mcontig\u001b[0m \u001b[0;32min\u001b[0m \u001b[0mcontig_names\u001b[0m\u001b[0;34m:\u001b[0m\u001b[0;34m\u001b[0m\u001b[0;34m\u001b[0m\u001b[0m\n",
      "\u001b[0;32mpysam/libcalignmentfile.pyx\u001b[0m in \u001b[0;36mpysam.libcalignmentfile.AlignmentFile.__cinit__\u001b[0;34m()\u001b[0m\n",
      "\u001b[0;32mpysam/libcalignmentfile.pyx\u001b[0m in \u001b[0;36mpysam.libcalignmentfile.AlignmentFile._open\u001b[0;34m()\u001b[0m\n",
      "\u001b[0;31mFileNotFoundError\u001b[0m: [Errno 2] could not open alignment file `./merged_bam_files/merge_all_posStrand.bam`: No such file or directory"
     ]
    }
   ],
   "source": [
    "contig_names = pgf.get_contig_names(path_to_gff)\n",
    "tf.make_wig_pilups('./merged_bam_files/merge_all_posStrand.bam', contig_names)\n",
    "tf.make_wig_pilups('./merged_bam_files/merge_all_negStrand.bam', contig_names)"
   ]
  },
  {
   "cell_type": "markdown",
   "metadata": {},
   "source": [
    "### Filtering out stringtie transcripts that are more reliable, and editing them    \n",
    "\n",
    "    filter for  \n",
    "    -Select stringtie transcripts that start between two genes on one of the    \n",
    "     DNA strands  \n",
    "    -Filter out transcripts that  \n",
    "        -Have low read Density  \n",
    "        -have no sudden increase in reads over a window of nts  \n",
    "    Edit   \n",
    "        -If stringtie transcript ends in middle of gene, extend transcript to  \n",
    "         end of that gene  "
   ]
  },
  {
   "cell_type": "markdown",
   "metadata": {},
   "source": [
    "### Edit  and filter transcripts  \n",
    "tf.filter_transcripts() \n",
    "1) extends each transcript to the stop codon of the nearest gene on the same strand\n",
    "2) filters out transcripts that start in the middle of a gene (on the same strand)\n",
    "3) filters out genes that have below the input threshold reads/nt\n",
    "\n"
   ]
  },
  {
   "cell_type": "code",
   "execution_count": 4,
   "metadata": {},
   "outputs": [],
   "source": [
    "filtered_transcript_objs = tf.filter_transcripts('./merged_all.gff',path_to_gff,20,annot_type='gff' )"
   ]
  },
  {
   "cell_type": "code",
   "execution_count": 5,
   "metadata": {},
   "outputs": [],
   "source": [
    "tf.write_gff_from_seqobj(filtered_transcript_objs, 'merged_all_filtered_20.gff')"
   ]
  },
  {
   "cell_type": "markdown",
   "metadata": {},
   "source": [
    "#### get sequence around a given coordinate"
   ]
  },
  {
   "cell_type": "markdown",
   "metadata": {},
   "source": [
    "<div>\n",
    "<img src=\"./notebook_images/get_minusStrand_seq_region2.jpg\" alt=\"get minus strand seq. region\" width=\"400\">\n",
    "<div>"
   ]
  },
  {
   "cell_type": "markdown",
   "metadata": {},
   "source": [
    "###  Generate file that has:  \n",
    "- all predicted TSS sequences from -100 to +50 (wrt TSS)\n",
    "- genes that are included in TU for each TSS\n",
    "- information about whether those genes are upregulated, downregulated, not regulated \n",
    "        TSS1    ….NNNNNN….    rpoD    not regulated\n",
    "        TSS1    …NNNNNN….    lecA    not regulated\n",
    "        TSS2    …NNNNNN…        dnaA    upregulated"
   ]
  },
  {
   "cell_type": "code",
   "execution_count": 27,
   "metadata": {},
   "outputs": [
    {
     "name": "stdout",
     "output_type": "stream",
     "text": [
      "Could not return all of upstream sequence requested because reached beginning of contig.\n"
     ]
    }
   ],
   "source": [
    "def get_seqs_around_start(upstream, downstream, fasta_genome, feature_obj_dict):\n",
    "    \"\"\"\n",
    "    \n",
    "    parameters:\n",
    "    upstream (int): # nt to return upstream of feature_beginning\n",
    "    downstream (int): # nt to return downstream of feature_beginning\n",
    "    fasta_genome (str): path_to_fasta_genome\n",
    "    feature_obj_dict (dict): {contig:feature_ID:feature_annot_object}\n",
    "    \"\"\"\n",
    "    info_for_file = {}\n",
    "#     upstream = 100\n",
    "#     downstream = 50\n",
    "    fasta_genome_dict = pf.get_seq_dict(fasta_genome)\n",
    "    seqs = {}\n",
    "    contigs = {}\n",
    "    for contig in filtered_transcript_objs:\n",
    "        for seq_obj_id in filtered_transcript_objs[contig]:\n",
    "            seq_obj = filtered_transcript_objs[contig][seq_obj_id]\n",
    "            strand = seq_obj.strand\n",
    "            if strand == '+':\n",
    "                tss = seq_obj.start\n",
    "            elif strand == '-':\n",
    "                tss = seq_obj.end\n",
    "            contigs[seq_obj_id] = contig\n",
    "            seqs[seq_obj_id] = tf.get_seq_around_coordinate(fasta_genome_dict,\n",
    "                                            contig,strand, tss, upstream, downstream)\n",
    "    return seqs\n",
    "            \n",
    "fasta_concat_genomepath = '../references/concat_references.fa'            \n",
    "seqs = get_seqs_around_start(100, 50, fasta_concat_genomepath, filtered_transcript_objs)"
   ]
  },
  {
   "cell_type": "code",
   "execution_count": 39,
   "metadata": {},
   "outputs": [
    {
     "data": {
      "text/html": [
       "<div>\n",
       "<style scoped>\n",
       "    .dataframe tbody tr th:only-of-type {\n",
       "        vertical-align: middle;\n",
       "    }\n",
       "\n",
       "    .dataframe tbody tr th {\n",
       "        vertical-align: top;\n",
       "    }\n",
       "\n",
       "    .dataframe thead th {\n",
       "        text-align: right;\n",
       "    }\n",
       "</style>\n",
       "<table border=\"1\" class=\"dataframe\">\n",
       "  <thead>\n",
       "    <tr style=\"text-align: right;\">\n",
       "      <th></th>\n",
       "      <th>up_down_seq 3'-5'</th>\n",
       "      <th>chromosome</th>\n",
       "    </tr>\n",
       "    <tr>\n",
       "      <th>transcript_ID</th>\n",
       "      <th></th>\n",
       "      <th></th>\n",
       "    </tr>\n",
       "  </thead>\n",
       "  <tbody>\n",
       "    <tr>\n",
       "      <th>STRG.2363</th>\n",
       "      <td>aacatcgaattaattctccgcccaacaaatatctaaaatccaatgt...</td>\n",
       "      <td>BF000000.3</td>\n",
       "    </tr>\n",
       "    <tr>\n",
       "      <th>STRG.2366</th>\n",
       "      <td>aatactcccccaatttatcttgacaatcgttaacaaatgcccgccg...</td>\n",
       "      <td>BF000000.3</td>\n",
       "    </tr>\n",
       "    <tr>\n",
       "      <th>STRG.2370</th>\n",
       "      <td>tgaaggtcggcgtccgcgacggacaaatcgacgcagcgcaccggcg...</td>\n",
       "      <td>BF000000.3</td>\n",
       "    </tr>\n",
       "    <tr>\n",
       "      <th>STRG.9</th>\n",
       "      <td>caacggatgccgtccgccgatatccgatgcccggacctggcgtcga...</td>\n",
       "      <td>BF000000.3</td>\n",
       "    </tr>\n",
       "    <tr>\n",
       "      <th>STRG.12</th>\n",
       "      <td>ccgaacggcgacgcgtacaccaggtagtcgaccgccatgtcgcgcg...</td>\n",
       "      <td>BF000000.3</td>\n",
       "    </tr>\n",
       "    <tr>\n",
       "      <th>...</th>\n",
       "      <td>...</td>\n",
       "      <td>...</td>\n",
       "    </tr>\n",
       "    <tr>\n",
       "      <th>STRG.3293</th>\n",
       "      <td>gcgcgcggcgcgggccgggtgcgcgggatctgagcccgatcagaaa...</td>\n",
       "      <td>BF000000.2</td>\n",
       "    </tr>\n",
       "    <tr>\n",
       "      <th>STRG.3297</th>\n",
       "      <td>tggtcggcggcgatcttcgcgccccagttcgcccgcgaggcggggc...</td>\n",
       "      <td>BF000000.2</td>\n",
       "    </tr>\n",
       "    <tr>\n",
       "      <th>STRG.3298</th>\n",
       "      <td>cgaagatggtcagccggttcagattgacgtcgcgcaggtccgccat...</td>\n",
       "      <td>BF000000.2</td>\n",
       "    </tr>\n",
       "    <tr>\n",
       "      <th>STRG.3300</th>\n",
       "      <td>ccctgggagtgaagatttcgagcccgaggctgatataccgatggcg...</td>\n",
       "      <td>BF000000.2</td>\n",
       "    </tr>\n",
       "    <tr>\n",
       "      <th>STRG.3309</th>\n",
       "      <td>gaggcggccgccgaagcgcgaaaacacccccgcgagcatgcgcgga...</td>\n",
       "      <td>BF000000.2</td>\n",
       "    </tr>\n",
       "  </tbody>\n",
       "</table>\n",
       "<p>1133 rows × 2 columns</p>\n",
       "</div>"
      ],
      "text/plain": [
       "                                               up_down_seq 3'-5'  chromosome\n",
       "transcript_ID                                                               \n",
       "STRG.2363      aacatcgaattaattctccgcccaacaaatatctaaaatccaatgt...  BF000000.3\n",
       "STRG.2366      aatactcccccaatttatcttgacaatcgttaacaaatgcccgccg...  BF000000.3\n",
       "STRG.2370      tgaaggtcggcgtccgcgacggacaaatcgacgcagcgcaccggcg...  BF000000.3\n",
       "STRG.9         caacggatgccgtccgccgatatccgatgcccggacctggcgtcga...  BF000000.3\n",
       "STRG.12        ccgaacggcgacgcgtacaccaggtagtcgaccgccatgtcgcgcg...  BF000000.3\n",
       "...                                                          ...         ...\n",
       "STRG.3293      gcgcgcggcgcgggccgggtgcgcgggatctgagcccgatcagaaa...  BF000000.2\n",
       "STRG.3297      tggtcggcggcgatcttcgcgccccagttcgcccgcgaggcggggc...  BF000000.2\n",
       "STRG.3298      cgaagatggtcagccggttcagattgacgtcgcgcaggtccgccat...  BF000000.2\n",
       "STRG.3300      ccctgggagtgaagatttcgagcccgaggctgatataccgatggcg...  BF000000.2\n",
       "STRG.3309      gaggcggccgccgaagcgcgaaaacacccccgcgagcatgcgcgga...  BF000000.2\n",
       "\n",
       "[1133 rows x 2 columns]"
      ]
     },
     "execution_count": 39,
     "metadata": {},
     "output_type": "execute_result"
    }
   ],
   "source": [
    "id_contig = {}\n",
    "for contig in filtered_transcript_objs:\n",
    "    for trans_id in filtered_transcript_objs[contig]:\n",
    "        id_contig[trans_id] = contig\n",
    "df1 = pd.DataFrame(seqs.values(), seqs.keys())\n",
    "df2 = pd.DataFrame(id_contig.values(), id_contig.keys())\n",
    "df_seqs= pd.merge(df1,df2,how='inner', left_index=True, right_index=True)\n",
    "df_seqs.columns =[\"up_down_seq 3'-5'\", 'chromosome']\n",
    "df_seqs.index.name = 'transcript_ID'\n",
    "df_seqs"
   ]
  },
  {
   "cell_type": "code",
   "execution_count": null,
   "metadata": {},
   "outputs": [],
   "source": []
  },
  {
   "cell_type": "markdown",
   "metadata": {},
   "source": [
    "## Get genes within the transcript  \n",
    "1) if the start codon of a gene (on the same strand as the transcript) is within the \n",
    "    start:end coordinates of the transcript, then count it as in the gene\n",
    "    - need the gene annotation  and the transcript annotations\n",
    "    "
   ]
  },
  {
   "cell_type": "code",
   "execution_count": 40,
   "metadata": {},
   "outputs": [],
   "source": [
    "path_trans_annots = './merged_all_filtered_20.gff'\n",
    "genes_in_transcript=tf.find_genes_in_transcript(path_trans_annots, path_to_gff)"
   ]
  },
  {
   "cell_type": "code",
   "execution_count": 41,
   "metadata": {},
   "outputs": [],
   "source": [
    "transcpt_list = []\n",
    "gene_list = []\n",
    "num_genes = []\n",
    "df_git =pd.DataFrame(genes_in_transcript.values(), genes_in_transcript.keys())\n",
    "for tnscpt, genes in genes_in_transcript.items():\n",
    "    if len(genes)>0:\n",
    "        for gene in genes:\n",
    "            transcpt_list.append(tnscpt)\n",
    "            gene_list.append(gene)\n",
    "            num_genes.append(len(genes))\n",
    "    else:\n",
    "        transcpt_list.append(tnscpt)\n",
    "        gene_list.append(None)\n",
    "        num_genes.append(0)\n",
    "\n",
    "            \n",
    "            \n",
    "df_tran_genes = pd.DataFrame()\n",
    "df_tran_genes['transcript_ID'] = transcpt_list\n",
    "df_tran_genes['genes'] = gene_list\n",
    "df_tran_genes['#_genes_in_transcript'] = num_genes\n",
    "df_seqs\n",
    "df_merge = pd.merge(df_seqs,df_tran_genes, how='outer', on='transcript_ID')\n",
    "df_merge\n",
    "df_merge.to_csv('near_tssSeq.csv')"
   ]
  },
  {
   "cell_type": "markdown",
   "metadata": {},
   "source": [
    "### Add gene expression data (up and down-regulated genes) to the dataframe"
   ]
  },
  {
   "cell_type": "code",
   "execution_count": 42,
   "metadata": {},
   "outputs": [],
   "source": [
    "df_expression = pd.read_csv('./differentially_regulated_genes_BANvBAO.tsv', sep='\\t')\n",
    "\n",
    "\n",
    "filt_up = df_expression['logFC']>1.5\n",
    "filt_down = df_expression['logFC']<(-1.5)\n",
    "up_down = []\n",
    "for up,down in zip(filt_up,filt_down):\n",
    "    if up:\n",
    "        up_down.append('up')\n",
    "    elif down:\n",
    "        up_down.append('down')\n",
    "    else:\n",
    "        up_down.append('not significant')\n",
    "df_expression['regulation'] = up_down\n",
    "        "
   ]
  },
  {
   "cell_type": "code",
   "execution_count": 43,
   "metadata": {},
   "outputs": [],
   "source": [
    "t = df_expression[['Locustag','Description','regulation']]\n",
    "t.columns = ['genes','Description','regulation']\n",
    "genes = df_merge['genes']\n",
    "genes = [gene.replace('gene-', '') if gene else None for gene in genes]\n",
    "df_merge['genes']=genes\n",
    "\n",
    "df3 = pd.merge(df_merge,t, how='inner', on='genes')\n",
    "df3.to_csv('full.csv')\n"
   ]
  },
  {
   "cell_type": "code",
   "execution_count": 44,
   "metadata": {},
   "outputs": [
    {
     "data": {
      "text/html": [
       "<div>\n",
       "<style scoped>\n",
       "    .dataframe tbody tr th:only-of-type {\n",
       "        vertical-align: middle;\n",
       "    }\n",
       "\n",
       "    .dataframe tbody tr th {\n",
       "        vertical-align: top;\n",
       "    }\n",
       "\n",
       "    .dataframe thead th {\n",
       "        text-align: right;\n",
       "    }\n",
       "</style>\n",
       "<table border=\"1\" class=\"dataframe\">\n",
       "  <thead>\n",
       "    <tr style=\"text-align: right;\">\n",
       "      <th></th>\n",
       "      <th>transcript_ID</th>\n",
       "      <th>up_down_seq 3'-5'</th>\n",
       "      <th>chromosome</th>\n",
       "      <th>genes</th>\n",
       "      <th>#_genes_in_transcript</th>\n",
       "      <th>Description</th>\n",
       "      <th>regulation</th>\n",
       "    </tr>\n",
       "  </thead>\n",
       "  <tbody>\n",
       "    <tr>\n",
       "      <th>0</th>\n",
       "      <td>STRG.2363</td>\n",
       "      <td>aacatcgaattaattctccgcccaacaaatatctaaaatccaatgt...</td>\n",
       "      <td>BF000000.3</td>\n",
       "      <td>tmp_006145</td>\n",
       "      <td>2</td>\n",
       "      <td>hypothetical protein</td>\n",
       "      <td>not significant</td>\n",
       "    </tr>\n",
       "    <tr>\n",
       "      <th>1</th>\n",
       "      <td>STRG.2370</td>\n",
       "      <td>tgaaggtcggcgtccgcgacggacaaatcgacgcagcgcaccggcg...</td>\n",
       "      <td>BF000000.3</td>\n",
       "      <td>tmp_006157</td>\n",
       "      <td>2</td>\n",
       "      <td>LysE family translocator</td>\n",
       "      <td>not significant</td>\n",
       "    </tr>\n",
       "    <tr>\n",
       "      <th>2</th>\n",
       "      <td>STRG.2381</td>\n",
       "      <td>cggcaaatccccgacaaaatccgacaatatgcaggctcgatccgac...</td>\n",
       "      <td>BF000000.3</td>\n",
       "      <td>tmp_006174</td>\n",
       "      <td>2</td>\n",
       "      <td>undecaprenyl-phosphate glucose phosphotransferase</td>\n",
       "      <td>down</td>\n",
       "    </tr>\n",
       "    <tr>\n",
       "      <th>3</th>\n",
       "      <td>STRG.2381</td>\n",
       "      <td>cggcaaatccccgacaaaatccgacaatatgcaggctcgatccgac...</td>\n",
       "      <td>BF000000.3</td>\n",
       "      <td>tmp_006175</td>\n",
       "      <td>2</td>\n",
       "      <td>helix-turn-helix domain-containing protein</td>\n",
       "      <td>down</td>\n",
       "    </tr>\n",
       "    <tr>\n",
       "      <th>4</th>\n",
       "      <td>STRG.2386</td>\n",
       "      <td>cggatctagtcgagtcgtcgcggcgtcagctggcgcagacctcgcc...</td>\n",
       "      <td>BF000000.3</td>\n",
       "      <td>tmp_006208</td>\n",
       "      <td>7</td>\n",
       "      <td>hypothetical protein</td>\n",
       "      <td>not significant</td>\n",
       "    </tr>\n",
       "    <tr>\n",
       "      <th>...</th>\n",
       "      <td>...</td>\n",
       "      <td>...</td>\n",
       "      <td>...</td>\n",
       "      <td>...</td>\n",
       "      <td>...</td>\n",
       "      <td>...</td>\n",
       "      <td>...</td>\n",
       "    </tr>\n",
       "    <tr>\n",
       "      <th>421</th>\n",
       "      <td>STRG.3289</td>\n",
       "      <td>gcgagcccgcgtggcggggcctagcgcggtttgtcacgcgcttgac...</td>\n",
       "      <td>BF000000.2</td>\n",
       "      <td>tmp_006018</td>\n",
       "      <td>2</td>\n",
       "      <td>RICIN domain-containing protein</td>\n",
       "      <td>not significant</td>\n",
       "    </tr>\n",
       "    <tr>\n",
       "      <th>422</th>\n",
       "      <td>STRG.3289</td>\n",
       "      <td>gcgagcccgcgtggcggggcctagcgcggtttgtcacgcgcttgac...</td>\n",
       "      <td>BF000000.2</td>\n",
       "      <td>tmp_006019</td>\n",
       "      <td>2</td>\n",
       "      <td>acetoacetyl-CoA reductase</td>\n",
       "      <td>not significant</td>\n",
       "    </tr>\n",
       "    <tr>\n",
       "      <th>423</th>\n",
       "      <td>STRG.3293</td>\n",
       "      <td>gcgcgcggcgcgggccgggtgcgcgggatctgagcccgatcagaaa...</td>\n",
       "      <td>BF000000.2</td>\n",
       "      <td>tmp_006025</td>\n",
       "      <td>1</td>\n",
       "      <td>hypothetical protein</td>\n",
       "      <td>down</td>\n",
       "    </tr>\n",
       "    <tr>\n",
       "      <th>424</th>\n",
       "      <td>STRG.3298</td>\n",
       "      <td>cgaagatggtcagccggttcagattgacgtcgcgcaggtccgccat...</td>\n",
       "      <td>BF000000.2</td>\n",
       "      <td>tmp_006038</td>\n",
       "      <td>1</td>\n",
       "      <td>glutathione S-transferase</td>\n",
       "      <td>not significant</td>\n",
       "    </tr>\n",
       "    <tr>\n",
       "      <th>425</th>\n",
       "      <td>STRG.3300</td>\n",
       "      <td>ccctgggagtgaagatttcgagcccgaggctgatataccgatggcg...</td>\n",
       "      <td>BF000000.2</td>\n",
       "      <td>tmp_006047</td>\n",
       "      <td>4</td>\n",
       "      <td>nucleotidyltransferase domain-containing protein</td>\n",
       "      <td>up</td>\n",
       "    </tr>\n",
       "  </tbody>\n",
       "</table>\n",
       "<p>426 rows × 7 columns</p>\n",
       "</div>"
      ],
      "text/plain": [
       "    transcript_ID                                  up_down_seq 3'-5'  \\\n",
       "0       STRG.2363  aacatcgaattaattctccgcccaacaaatatctaaaatccaatgt...   \n",
       "1       STRG.2370  tgaaggtcggcgtccgcgacggacaaatcgacgcagcgcaccggcg...   \n",
       "2       STRG.2381  cggcaaatccccgacaaaatccgacaatatgcaggctcgatccgac...   \n",
       "3       STRG.2381  cggcaaatccccgacaaaatccgacaatatgcaggctcgatccgac...   \n",
       "4       STRG.2386  cggatctagtcgagtcgtcgcggcgtcagctggcgcagacctcgcc...   \n",
       "..            ...                                                ...   \n",
       "421     STRG.3289  gcgagcccgcgtggcggggcctagcgcggtttgtcacgcgcttgac...   \n",
       "422     STRG.3289  gcgagcccgcgtggcggggcctagcgcggtttgtcacgcgcttgac...   \n",
       "423     STRG.3293  gcgcgcggcgcgggccgggtgcgcgggatctgagcccgatcagaaa...   \n",
       "424     STRG.3298  cgaagatggtcagccggttcagattgacgtcgcgcaggtccgccat...   \n",
       "425     STRG.3300  ccctgggagtgaagatttcgagcccgaggctgatataccgatggcg...   \n",
       "\n",
       "     chromosome       genes  #_genes_in_transcript  \\\n",
       "0    BF000000.3  tmp_006145                      2   \n",
       "1    BF000000.3  tmp_006157                      2   \n",
       "2    BF000000.3  tmp_006174                      2   \n",
       "3    BF000000.3  tmp_006175                      2   \n",
       "4    BF000000.3  tmp_006208                      7   \n",
       "..          ...         ...                    ...   \n",
       "421  BF000000.2  tmp_006018                      2   \n",
       "422  BF000000.2  tmp_006019                      2   \n",
       "423  BF000000.2  tmp_006025                      1   \n",
       "424  BF000000.2  tmp_006038                      1   \n",
       "425  BF000000.2  tmp_006047                      4   \n",
       "\n",
       "                                           Description       regulation  \n",
       "0                                 hypothetical protein  not significant  \n",
       "1                             LysE family translocator  not significant  \n",
       "2    undecaprenyl-phosphate glucose phosphotransferase             down  \n",
       "3           helix-turn-helix domain-containing protein             down  \n",
       "4                                 hypothetical protein  not significant  \n",
       "..                                                 ...              ...  \n",
       "421                    RICIN domain-containing protein  not significant  \n",
       "422                          acetoacetyl-CoA reductase  not significant  \n",
       "423                               hypothetical protein             down  \n",
       "424                          glutathione S-transferase  not significant  \n",
       "425   nucleotidyltransferase domain-containing protein               up  \n",
       "\n",
       "[426 rows x 7 columns]"
      ]
     },
     "execution_count": 44,
     "metadata": {},
     "output_type": "execute_result"
    }
   ],
   "source": [
    "df3"
   ]
  },
  {
   "cell_type": "markdown",
   "metadata": {},
   "source": [
    "#### Graph read density on filtered transcripts"
   ]
  },
  {
   "cell_type": "code",
   "execution_count": 24,
   "metadata": {},
   "outputs": [
    {
     "ename": "NameError",
     "evalue": "name 'coverage_df' is not defined",
     "output_type": "error",
     "traceback": [
      "\u001b[0;31m---------------------------------------------------------------------------\u001b[0m",
      "\u001b[0;31mNameError\u001b[0m                                 Traceback (most recent call last)",
      "\u001b[0;32m/var/folders/hb/rvrzm3nx3sxcpzvvy7xxwtsw0000gn/T/ipykernel_96624/2280616836.py\u001b[0m in \u001b[0;36m<module>\u001b[0;34m\u001b[0m\n\u001b[1;32m      1\u001b[0m \u001b[0mfilt_val\u001b[0m \u001b[0;34m=\u001b[0m \u001b[0;36m20\u001b[0m\u001b[0;34m\u001b[0m\u001b[0;34m\u001b[0m\u001b[0m\n\u001b[0;32m----> 2\u001b[0;31m \u001b[0mcoverage_fil_df\u001b[0m \u001b[0;34m=\u001b[0m \u001b[0mcoverage_df\u001b[0m\u001b[0;34m.\u001b[0m\u001b[0mloc\u001b[0m\u001b[0;34m[\u001b[0m\u001b[0mcoverage_df\u001b[0m\u001b[0;34m[\u001b[0m\u001b[0;34m'coverage'\u001b[0m\u001b[0;34m]\u001b[0m\u001b[0;34m>\u001b[0m\u001b[0mfilt_val\u001b[0m\u001b[0;34m,\u001b[0m\u001b[0;34m:\u001b[0m\u001b[0;34m]\u001b[0m\u001b[0;34m.\u001b[0m\u001b[0msort_values\u001b[0m\u001b[0;34m(\u001b[0m\u001b[0;34m'coverage'\u001b[0m\u001b[0;34m)\u001b[0m\u001b[0;34m\u001b[0m\u001b[0;34m\u001b[0m\u001b[0m\n\u001b[0m\u001b[1;32m      3\u001b[0m \u001b[0;34m\u001b[0m\u001b[0m\n\u001b[1;32m      4\u001b[0m \u001b[0mbins\u001b[0m  \u001b[0;34m=\u001b[0m \u001b[0;36m50\u001b[0m\u001b[0;34m\u001b[0m\u001b[0;34m\u001b[0m\u001b[0m\n\u001b[1;32m      5\u001b[0m \u001b[0mrnge\u001b[0m \u001b[0;34m=\u001b[0m \u001b[0;34m(\u001b[0m\u001b[0;36m0\u001b[0m\u001b[0;34m,\u001b[0m\u001b[0;36m75\u001b[0m\u001b[0;34m)\u001b[0m\u001b[0;34m\u001b[0m\u001b[0;34m\u001b[0m\u001b[0m\n",
      "\u001b[0;31mNameError\u001b[0m: name 'coverage_df' is not defined"
     ]
    }
   ],
   "source": [
    "filt_val = 20\n",
    "coverage_fil_df = coverage_df.loc[coverage_df['coverage']>filt_val,:].sort_values('coverage')\n",
    "\n",
    "bins  = 50\n",
    "rnge = (0,75)\n",
    "import plotly.graph_objects as go\n",
    "import plotly.offline as pyo\n",
    "hist = np.histogram(coverage_fil_df['coverage'],bins=bins, range=rnge)\n",
    "trace1 = go.Bar(x=hist[1], y=hist[0], name='coverage')\n",
    "layout = go.Layout({'title':'histogram of ave. reads/nt'})\n",
    "fig = go.Figure(data=[trace1], layout=layout )\n",
    "fig.update_xaxes({'title':\n",
    "                      {'text':'ave. reads/nt',\n",
    "                      'font':{'size':20}}\n",
    "                 })\n",
    "fig.update_yaxes({'title':\n",
    "                      {'text':'number of transripts',\n",
    "                      'font':{'size':20}}\n",
    "                 })\n",
    "fig\n"
   ]
  },
  {
   "cell_type": "code",
   "execution_count": 315,
   "metadata": {},
   "outputs": [],
   "source": []
  },
  {
   "cell_type": "code",
   "execution_count": null,
   "metadata": {},
   "outputs": [],
   "source": []
  }
 ],
 "metadata": {
  "kernelspec": {
   "display_name": "Python 3 (ipykernel)",
   "language": "python",
   "name": "python3"
  },
  "language_info": {
   "codemirror_mode": {
    "name": "ipython",
    "version": 3
   },
   "file_extension": ".py",
   "mimetype": "text/x-python",
   "name": "python",
   "nbconvert_exporter": "python",
   "pygments_lexer": "ipython3",
   "version": "3.9.7"
  },
  "vscode": {
   "interpreter": {
    "hash": "6691013dd57765de18105885afeee5e2162f23612599fe49b9f063fc824dadcf"
   }
  }
 },
 "nbformat": 4,
 "nbformat_minor": 2
}
